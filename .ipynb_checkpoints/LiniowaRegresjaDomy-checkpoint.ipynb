{
 "cells": [
  {
   "cell_type": "markdown",
   "metadata": {
    "_uuid": "c4d159a99ba1b69ecc931d0d852c6bad2ec0bc95"
   },
   "source": [
    "Nasze kroki\n",
    "\n",
    "1) Importowanie bibliotek <br>\n",
    "2) Wczytanie danych <br>\n",
    "3) Analiza danych<br>\n",
    "4) Label Encoding i one hot encoding<br>\n",
    "5) Feature Engineering<br>\n",
    "6) Usuwanie zbędnych danych<br>\n",
    "7) Normalizacja danych<br>\n",
    "8) Podział danych<br>\n",
    "9) Linear regression<br>\n",
    "10) Przewidywanie wartości domu<br>"
   ]
  },
  {
   "cell_type": "markdown",
   "metadata": {
    "_uuid": "e21c65969f6d97f66c6aff0353f70b90403b8485"
   },
   "source": [
    "#### 1) Importowanie bibliotek"
   ]
  },
  {
   "cell_type": "code",
   "execution_count": 1,
   "metadata": {
    "_uuid": "b95e0ec65e2e222a46a538b1396bcdc14ba46e9d"
   },
   "outputs": [],
   "source": [
    "import pandas as pd\n",
    "import numpy as np\n",
    "import matplotlib.pyplot as plt\n",
    "import seaborn as sns"
   ]
  },
  {
   "cell_type": "markdown",
   "metadata": {
    "_uuid": "5a3d9ae01b368401afe112ac7852919b9312cf4f"
   },
   "source": [
    "#### 2) Wczytanie danych"
   ]
  },
  {
   "cell_type": "code",
   "execution_count": 2,
   "metadata": {
    "_uuid": "524fbd56146ae8c6f10e81ffa89473ae26bf66fb"
   },
   "outputs": [
    {
     "data": {
      "text/html": [
       "<div>\n",
       "<style scoped>\n",
       "    .dataframe tbody tr th:only-of-type {\n",
       "        vertical-align: middle;\n",
       "    }\n",
       "\n",
       "    .dataframe tbody tr th {\n",
       "        vertical-align: top;\n",
       "    }\n",
       "\n",
       "    .dataframe thead th {\n",
       "        text-align: right;\n",
       "    }\n",
       "</style>\n",
       "<table border=\"1\" class=\"dataframe\">\n",
       "  <thead>\n",
       "    <tr style=\"text-align: right;\">\n",
       "      <th></th>\n",
       "      <th>Id</th>\n",
       "      <th>MSSubClass</th>\n",
       "      <th>MSZoning</th>\n",
       "      <th>LotFrontage</th>\n",
       "      <th>LotArea</th>\n",
       "      <th>Street</th>\n",
       "      <th>Alley</th>\n",
       "      <th>LotShape</th>\n",
       "      <th>LandContour</th>\n",
       "      <th>Utilities</th>\n",
       "      <th>...</th>\n",
       "      <th>ScreenPorch</th>\n",
       "      <th>PoolArea</th>\n",
       "      <th>PoolQC</th>\n",
       "      <th>Fence</th>\n",
       "      <th>MiscFeature</th>\n",
       "      <th>MiscVal</th>\n",
       "      <th>MoSold</th>\n",
       "      <th>YrSold</th>\n",
       "      <th>SaleType</th>\n",
       "      <th>SaleCondition</th>\n",
       "    </tr>\n",
       "  </thead>\n",
       "  <tbody>\n",
       "    <tr>\n",
       "      <td>0</td>\n",
       "      <td>1461</td>\n",
       "      <td>20</td>\n",
       "      <td>RH</td>\n",
       "      <td>80.0</td>\n",
       "      <td>11622</td>\n",
       "      <td>Pave</td>\n",
       "      <td>NaN</td>\n",
       "      <td>Reg</td>\n",
       "      <td>Lvl</td>\n",
       "      <td>AllPub</td>\n",
       "      <td>...</td>\n",
       "      <td>120</td>\n",
       "      <td>0</td>\n",
       "      <td>NaN</td>\n",
       "      <td>MnPrv</td>\n",
       "      <td>NaN</td>\n",
       "      <td>0</td>\n",
       "      <td>6</td>\n",
       "      <td>2010</td>\n",
       "      <td>WD</td>\n",
       "      <td>Normal</td>\n",
       "    </tr>\n",
       "    <tr>\n",
       "      <td>1</td>\n",
       "      <td>1462</td>\n",
       "      <td>20</td>\n",
       "      <td>RL</td>\n",
       "      <td>81.0</td>\n",
       "      <td>14267</td>\n",
       "      <td>Pave</td>\n",
       "      <td>NaN</td>\n",
       "      <td>IR1</td>\n",
       "      <td>Lvl</td>\n",
       "      <td>AllPub</td>\n",
       "      <td>...</td>\n",
       "      <td>0</td>\n",
       "      <td>0</td>\n",
       "      <td>NaN</td>\n",
       "      <td>NaN</td>\n",
       "      <td>Gar2</td>\n",
       "      <td>12500</td>\n",
       "      <td>6</td>\n",
       "      <td>2010</td>\n",
       "      <td>WD</td>\n",
       "      <td>Normal</td>\n",
       "    </tr>\n",
       "    <tr>\n",
       "      <td>2</td>\n",
       "      <td>1463</td>\n",
       "      <td>60</td>\n",
       "      <td>RL</td>\n",
       "      <td>74.0</td>\n",
       "      <td>13830</td>\n",
       "      <td>Pave</td>\n",
       "      <td>NaN</td>\n",
       "      <td>IR1</td>\n",
       "      <td>Lvl</td>\n",
       "      <td>AllPub</td>\n",
       "      <td>...</td>\n",
       "      <td>0</td>\n",
       "      <td>0</td>\n",
       "      <td>NaN</td>\n",
       "      <td>MnPrv</td>\n",
       "      <td>NaN</td>\n",
       "      <td>0</td>\n",
       "      <td>3</td>\n",
       "      <td>2010</td>\n",
       "      <td>WD</td>\n",
       "      <td>Normal</td>\n",
       "    </tr>\n",
       "    <tr>\n",
       "      <td>3</td>\n",
       "      <td>1464</td>\n",
       "      <td>60</td>\n",
       "      <td>RL</td>\n",
       "      <td>78.0</td>\n",
       "      <td>9978</td>\n",
       "      <td>Pave</td>\n",
       "      <td>NaN</td>\n",
       "      <td>IR1</td>\n",
       "      <td>Lvl</td>\n",
       "      <td>AllPub</td>\n",
       "      <td>...</td>\n",
       "      <td>0</td>\n",
       "      <td>0</td>\n",
       "      <td>NaN</td>\n",
       "      <td>NaN</td>\n",
       "      <td>NaN</td>\n",
       "      <td>0</td>\n",
       "      <td>6</td>\n",
       "      <td>2010</td>\n",
       "      <td>WD</td>\n",
       "      <td>Normal</td>\n",
       "    </tr>\n",
       "    <tr>\n",
       "      <td>4</td>\n",
       "      <td>1465</td>\n",
       "      <td>120</td>\n",
       "      <td>RL</td>\n",
       "      <td>43.0</td>\n",
       "      <td>5005</td>\n",
       "      <td>Pave</td>\n",
       "      <td>NaN</td>\n",
       "      <td>IR1</td>\n",
       "      <td>HLS</td>\n",
       "      <td>AllPub</td>\n",
       "      <td>...</td>\n",
       "      <td>144</td>\n",
       "      <td>0</td>\n",
       "      <td>NaN</td>\n",
       "      <td>NaN</td>\n",
       "      <td>NaN</td>\n",
       "      <td>0</td>\n",
       "      <td>1</td>\n",
       "      <td>2010</td>\n",
       "      <td>WD</td>\n",
       "      <td>Normal</td>\n",
       "    </tr>\n",
       "  </tbody>\n",
       "</table>\n",
       "<p>5 rows × 80 columns</p>\n",
       "</div>"
      ],
      "text/plain": [
       "     Id  MSSubClass MSZoning  LotFrontage  LotArea Street Alley LotShape  \\\n",
       "0  1461          20       RH         80.0    11622   Pave   NaN      Reg   \n",
       "1  1462          20       RL         81.0    14267   Pave   NaN      IR1   \n",
       "2  1463          60       RL         74.0    13830   Pave   NaN      IR1   \n",
       "3  1464          60       RL         78.0     9978   Pave   NaN      IR1   \n",
       "4  1465         120       RL         43.0     5005   Pave   NaN      IR1   \n",
       "\n",
       "  LandContour Utilities  ... ScreenPorch PoolArea PoolQC  Fence MiscFeature  \\\n",
       "0         Lvl    AllPub  ...         120        0    NaN  MnPrv         NaN   \n",
       "1         Lvl    AllPub  ...           0        0    NaN    NaN        Gar2   \n",
       "2         Lvl    AllPub  ...           0        0    NaN  MnPrv         NaN   \n",
       "3         Lvl    AllPub  ...           0        0    NaN    NaN         NaN   \n",
       "4         HLS    AllPub  ...         144        0    NaN    NaN         NaN   \n",
       "\n",
       "  MiscVal MoSold  YrSold  SaleType  SaleCondition  \n",
       "0       0      6    2010        WD         Normal  \n",
       "1   12500      6    2010        WD         Normal  \n",
       "2       0      3    2010        WD         Normal  \n",
       "3       0      6    2010        WD         Normal  \n",
       "4       0      1    2010        WD         Normal  \n",
       "\n",
       "[5 rows x 80 columns]"
      ]
     },
     "execution_count": 2,
     "metadata": {},
     "output_type": "execute_result"
    }
   ],
   "source": [
    "train = pd.read_csv(\"liniowa/train.csv\")\n",
    "test = pd.read_csv(\"liniowa/test.csv\")\n",
    "train.head()\n",
    "test.head()"
   ]
  },
  {
   "cell_type": "markdown",
   "metadata": {
    "_uuid": "47522523b430cfaafe108001734729787ffdf2d3"
   },
   "source": [
    "#### 3) Analiza danych"
   ]
  },
  {
   "cell_type": "code",
   "execution_count": 3,
   "metadata": {
    "_uuid": "2f886627a9303fdbde6211589b6fcf8e7e94a5bf"
   },
   "outputs": [
    {
     "data": {
      "text/plain": [
       "(1459, 80)"
      ]
     },
     "execution_count": 3,
     "metadata": {},
     "output_type": "execute_result"
    }
   ],
   "source": [
    "train.columns\n",
    "train.shape\n",
    "test.shape"
   ]
  },
  {
   "cell_type": "code",
   "execution_count": 4,
   "metadata": {
    "_uuid": "b100caa67b024339c92e122e29bb4f1400ee8be0"
   },
   "outputs": [
    {
     "data": {
      "text/plain": [
       "Id                 int64\n",
       "MSSubClass         int64\n",
       "MSZoning          object\n",
       "LotFrontage      float64\n",
       "LotArea            int64\n",
       "                  ...   \n",
       "MoSold             int64\n",
       "YrSold             int64\n",
       "SaleType          object\n",
       "SaleCondition     object\n",
       "SalePrice          int64\n",
       "Length: 81, dtype: object"
      ]
     },
     "execution_count": 4,
     "metadata": {},
     "output_type": "execute_result"
    }
   ],
   "source": [
    "train.dtypes"
   ]
  },
  {
   "cell_type": "code",
   "execution_count": 5,
   "metadata": {
    "_uuid": "d75969b77007a18b40ae055101cfd390b7a20d49"
   },
   "outputs": [],
   "source": [
    "for col in train:\n",
    "    if train[col].dtype == 'object':\n",
    "        train[col] = train[col].fillna(train[col].mode())\n",
    "    else:\n",
    "        train[col] = train[col].fillna(train[col].median())"
   ]
  },
  {
   "cell_type": "markdown",
   "metadata": {
    "_uuid": "3d0322f14ee08087b5cfbe69968b1914fe7d75a7"
   },
   "source": [
    "#### 4) Label Encoding i one hot encoding"
   ]
  },
  {
   "cell_type": "code",
   "execution_count": 6,
   "metadata": {
    "_uuid": "eeb928c09cbd56e1413f9154a64e3f85c3a28553"
   },
   "outputs": [],
   "source": [
    "from sklearn.preprocessing import LabelEncoder\n",
    "\n",
    "\n",
    "def label_encoding(df_train,df_test):\n",
    "    le_count=0;\n",
    "    for col in df_train:\n",
    "        if df_train[col].dtype == 'object':\n",
    "            if len(list(df_train[col].unique())) <= 2:\n",
    "                le = LabelEncoder()\n",
    "                le.fit(list(df_train[col].unique())+list(df_test[col].unique()))\n",
    "\n",
    "                df_train[col] = le.transform(df_train[col].astype(str))\n",
    "                df_test[col] = le.transform(df_test[col].astype(str))\n",
    "                le_count +=1;\n",
    "               \n",
    "    \n",
    "    print(\"Total label encoded columns : %d \" %le_count)"
   ]
  },
  {
   "cell_type": "code",
   "execution_count": 7,
   "metadata": {
    "_uuid": "8f160e54d8ea5efc11b438baaec0974164679e87"
   },
   "outputs": [
    {
     "name": "stdout",
     "output_type": "stream",
     "text": [
      "Total label encoded columns : 3 \n"
     ]
    },
    {
     "data": {
      "text/plain": [
       "(1459, 80)"
      ]
     },
     "execution_count": 7,
     "metadata": {},
     "output_type": "execute_result"
    }
   ],
   "source": [
    "label_encoding(train,test)\n",
    "train.shape\n",
    "test.shape"
   ]
  },
  {
   "cell_type": "code",
   "execution_count": 8,
   "metadata": {
    "_uuid": "72ec1a8501de4e11782b0dba75b2951a116e208e",
    "scrolled": true
   },
   "outputs": [
    {
     "name": "stderr",
     "output_type": "stream",
     "text": [
      "/home/tumnus/venv/lib/python3.7/site-packages/ipykernel_launcher.py:4: FutureWarning: Sorting because non-concatenation axis is not aligned. A future version\n",
      "of pandas will change to not sort by default.\n",
      "\n",
      "To accept the future behavior, pass 'sort=False'.\n",
      "\n",
      "To retain the current behavior and silence the warning, pass 'sort=True'.\n",
      "\n",
      "  after removing the cwd from sys.path.\n"
     ]
    },
    {
     "data": {
      "text/plain": [
       "(1459, 286)"
      ]
     },
     "execution_count": 8,
     "metadata": {},
     "output_type": "execute_result"
    }
   ],
   "source": [
    "import copy\n",
    "\n",
    "train_objs_num = len(train)\n",
    "dataset = pd.concat(objs=[train, test], axis=0)\n",
    "dataset = pd.get_dummies(dataset)\n",
    "train = copy.copy(dataset[:train_objs_num])\n",
    "test = copy.copy(dataset[train_objs_num:])\n",
    "test = test.drop(['SalePrice'],axis=1)\n",
    "train.shape\n",
    "test.shape"
   ]
  },
  {
   "cell_type": "code",
   "execution_count": 26,
   "metadata": {
    "_uuid": "8c7b2fabbd625f919a8eb002de9fff45409c1037",
    "scrolled": true
   },
   "outputs": [
    {
     "data": {
      "text/plain": [
       "<matplotlib.axes._subplots.AxesSubplot at 0x7fc940d6c410>"
      ]
     },
     "execution_count": 26,
     "metadata": {},
     "output_type": "execute_result"
    },
    {
     "data": {
      "image/png": "[encoded data removed]",
      "text/plain": [
       "<Figure size 432x288 with 1 Axes>"
      ]
     },
     "metadata": {},
     "output_type": "display_data"
    }
   ],
   "source": [
    "from scipy.stats import norm\n",
    "sns.distplot(train['SalePrice'],fit=norm)"
   ]
  },
  {
   "cell_type": "markdown",
   "metadata": {
    "_uuid": "bd583f9eadf5859dcbabd634a36ae0bd1e1ee090"
   },
   "source": [
    "#### 5) Feature Engineering"
   ]
  },
  {
   "cell_type": "code",
   "execution_count": 10,
   "metadata": {
    "_uuid": "d3b7cbd664ea95eeb3932c4a30cf57675dadef17"
   },
   "outputs": [],
   "source": [
    "corr = train.corr()"
   ]
  },
  {
   "cell_type": "code",
   "execution_count": 11,
   "metadata": {
    "_uuid": "f4762f97e23f422b898fe2aee394753a25f157dc"
   },
   "outputs": [],
   "source": [
    "corr = corr.sort_values('SalePrice')\n",
    "cols = corr['SalePrice'][corr['SalePrice'].values > 0.2].index.values"
   ]
  },
  {
   "cell_type": "code",
   "execution_count": 12,
   "metadata": {
    "_uuid": "589f5ac48ceaf7d6e594d30b75f190fef34bc2eb"
   },
   "outputs": [
    {
     "data": {
      "text/plain": [
       "array(['BsmtUnfSF', 'Neighborhood_StoneBr', 'LotShape_IR1',\n",
       "       'BsmtFullBath', 'PavedDrive_Y', 'BsmtQual_Gd',\n",
       "       'GarageType_BuiltIn', 'RoofStyle_Hip', 'Electrical_SBrkr',\n",
       "       'HouseStyle_2Story', 'MSZoning_RL', 'GarageQual_TA', 'CentralAir',\n",
       "       'FireplaceQu_Ex', 'LotArea', 'GarageCond_TA', 'HalfBath',\n",
       "       'Exterior1st_VinylSd', 'Exterior2nd_VinylSd', 'BsmtExposure_Gd',\n",
       "       'OpenPorchSF', '2ndFlrSF', 'KitchenQual_Gd', 'WoodDeckSF',\n",
       "       'Neighborhood_NoRidge', 'MasVnrType_Stone', 'LotFrontage',\n",
       "       'GarageType_Attchd', 'FireplaceQu_Gd', 'SaleCondition_Partial',\n",
       "       'SaleType_New', 'BsmtFinSF1', 'Neighborhood_NridgHt',\n",
       "       'GarageFinish_Fin', 'HeatingQC_Ex', 'BsmtFinType1_GLQ',\n",
       "       'ExterQual_Ex', 'ExterQual_Gd', 'GarageYrBlt', 'Fireplaces',\n",
       "       'MasVnrArea', 'Foundation_PConc', 'KitchenQual_Ex', 'YearRemodAdd',\n",
       "       'YearBuilt', 'TotRmsAbvGrd', 'BsmtQual_Ex', 'FullBath', '1stFlrSF',\n",
       "       'TotalBsmtSF', 'GarageArea', 'GarageCars', 'GrLivArea',\n",
       "       'OverallQual', 'SalePrice'], dtype=object)"
      ]
     },
     "execution_count": 12,
     "metadata": {},
     "output_type": "execute_result"
    }
   ],
   "source": [
    "cols"
   ]
  },
  {
   "cell_type": "markdown",
   "metadata": {
    "_uuid": "5a9fcf85191de365ccada7e04f64c1b883cc7f2f"
   },
   "source": [
    "We will draw heatmap plot of top 10 correlated variables!"
   ]
  },
  {
   "cell_type": "code",
   "execution_count": 13,
   "metadata": {
    "_uuid": "f91c6856cc8de20604f6bd33feedc89cd5d88af4",
    "scrolled": false
   },
   "outputs": [
    {
     "data": {
      "image/png": "[encoded data removed]",
      "text/plain": [
       "<Figure size 1152x1152 with 2 Axes>"
      ]
     },
     "metadata": {
      "needs_background": "light"
     },
     "output_type": "display_data"
    }
   ],
   "source": [
    "heatMapCols=np.append(cols[-10:], np.array(['SalePrice']))\n",
    "cm = np.corrcoef(train[heatMapCols[::-1]].T)\n",
    "plt.figure(figsize=(16,16))\n",
    "sns.set(font_scale=1)\n",
    "with sns.axes_style(\"white\"):\n",
    "    sns.heatmap(cm,yticklabels=heatMapCols[::-1],xticklabels=heatMapCols[::-1],fmt='.2f',annot_kws={'size':10},annot=True,square=True,cmap=None)"
   ]
  },
  {
   "cell_type": "code",
   "execution_count": 14,
   "metadata": {
    "_uuid": "ed5d09ac243719d8caaeca59e593a8e83aecfcb5"
   },
   "outputs": [],
   "source": [
    "train_label = train['SalePrice']\n",
    "\n",
    "cols = np.delete(cols,len(cols)-1)\n",
    "\n",
    "train_sample = train[cols]\n",
    "\n",
    "test_sample = test[cols]\n"
   ]
  },
  {
   "cell_type": "code",
   "execution_count": 15,
   "metadata": {
    "_uuid": "b0a1a3390a75abad411c50afe114fe1b458ae9f9"
   },
   "outputs": [
    {
     "data": {
      "text/html": [
       "<div>\n",
       "<style scoped>\n",
       "    .dataframe tbody tr th:only-of-type {\n",
       "        vertical-align: middle;\n",
       "    }\n",
       "\n",
       "    .dataframe tbody tr th {\n",
       "        vertical-align: top;\n",
       "    }\n",
       "\n",
       "    .dataframe thead th {\n",
       "        text-align: right;\n",
       "    }\n",
       "</style>\n",
       "<table border=\"1\" class=\"dataframe\">\n",
       "  <thead>\n",
       "    <tr style=\"text-align: right;\">\n",
       "      <th></th>\n",
       "      <th>BsmtUnfSF</th>\n",
       "      <th>Neighborhood_StoneBr</th>\n",
       "      <th>LotShape_IR1</th>\n",
       "      <th>BsmtFullBath</th>\n",
       "      <th>PavedDrive_Y</th>\n",
       "      <th>BsmtQual_Gd</th>\n",
       "      <th>GarageType_BuiltIn</th>\n",
       "      <th>RoofStyle_Hip</th>\n",
       "      <th>Electrical_SBrkr</th>\n",
       "      <th>HouseStyle_2Story</th>\n",
       "      <th>...</th>\n",
       "      <th>YearBuilt</th>\n",
       "      <th>TotRmsAbvGrd</th>\n",
       "      <th>BsmtQual_Ex</th>\n",
       "      <th>FullBath</th>\n",
       "      <th>1stFlrSF</th>\n",
       "      <th>TotalBsmtSF</th>\n",
       "      <th>GarageArea</th>\n",
       "      <th>GarageCars</th>\n",
       "      <th>GrLivArea</th>\n",
       "      <th>OverallQual</th>\n",
       "    </tr>\n",
       "  </thead>\n",
       "  <tbody>\n",
       "    <tr>\n",
       "      <td>0</td>\n",
       "      <td>150.0</td>\n",
       "      <td>0</td>\n",
       "      <td>0</td>\n",
       "      <td>1.0</td>\n",
       "      <td>1</td>\n",
       "      <td>1</td>\n",
       "      <td>0</td>\n",
       "      <td>0</td>\n",
       "      <td>1</td>\n",
       "      <td>1</td>\n",
       "      <td>...</td>\n",
       "      <td>2003</td>\n",
       "      <td>8</td>\n",
       "      <td>0</td>\n",
       "      <td>2</td>\n",
       "      <td>856</td>\n",
       "      <td>856.0</td>\n",
       "      <td>548.0</td>\n",
       "      <td>2.0</td>\n",
       "      <td>1710</td>\n",
       "      <td>7</td>\n",
       "    </tr>\n",
       "    <tr>\n",
       "      <td>1</td>\n",
       "      <td>284.0</td>\n",
       "      <td>0</td>\n",
       "      <td>0</td>\n",
       "      <td>0.0</td>\n",
       "      <td>1</td>\n",
       "      <td>1</td>\n",
       "      <td>0</td>\n",
       "      <td>0</td>\n",
       "      <td>1</td>\n",
       "      <td>0</td>\n",
       "      <td>...</td>\n",
       "      <td>1976</td>\n",
       "      <td>6</td>\n",
       "      <td>0</td>\n",
       "      <td>2</td>\n",
       "      <td>1262</td>\n",
       "      <td>1262.0</td>\n",
       "      <td>460.0</td>\n",
       "      <td>2.0</td>\n",
       "      <td>1262</td>\n",
       "      <td>6</td>\n",
       "    </tr>\n",
       "    <tr>\n",
       "      <td>2</td>\n",
       "      <td>434.0</td>\n",
       "      <td>0</td>\n",
       "      <td>1</td>\n",
       "      <td>1.0</td>\n",
       "      <td>1</td>\n",
       "      <td>1</td>\n",
       "      <td>0</td>\n",
       "      <td>0</td>\n",
       "      <td>1</td>\n",
       "      <td>1</td>\n",
       "      <td>...</td>\n",
       "      <td>2001</td>\n",
       "      <td>6</td>\n",
       "      <td>0</td>\n",
       "      <td>2</td>\n",
       "      <td>920</td>\n",
       "      <td>920.0</td>\n",
       "      <td>608.0</td>\n",
       "      <td>2.0</td>\n",
       "      <td>1786</td>\n",
       "      <td>7</td>\n",
       "    </tr>\n",
       "    <tr>\n",
       "      <td>3</td>\n",
       "      <td>540.0</td>\n",
       "      <td>0</td>\n",
       "      <td>1</td>\n",
       "      <td>1.0</td>\n",
       "      <td>1</td>\n",
       "      <td>0</td>\n",
       "      <td>0</td>\n",
       "      <td>0</td>\n",
       "      <td>1</td>\n",
       "      <td>1</td>\n",
       "      <td>...</td>\n",
       "      <td>1915</td>\n",
       "      <td>7</td>\n",
       "      <td>0</td>\n",
       "      <td>1</td>\n",
       "      <td>961</td>\n",
       "      <td>756.0</td>\n",
       "      <td>642.0</td>\n",
       "      <td>3.0</td>\n",
       "      <td>1717</td>\n",
       "      <td>7</td>\n",
       "    </tr>\n",
       "    <tr>\n",
       "      <td>4</td>\n",
       "      <td>490.0</td>\n",
       "      <td>0</td>\n",
       "      <td>1</td>\n",
       "      <td>1.0</td>\n",
       "      <td>1</td>\n",
       "      <td>1</td>\n",
       "      <td>0</td>\n",
       "      <td>0</td>\n",
       "      <td>1</td>\n",
       "      <td>1</td>\n",
       "      <td>...</td>\n",
       "      <td>2000</td>\n",
       "      <td>9</td>\n",
       "      <td>0</td>\n",
       "      <td>2</td>\n",
       "      <td>1145</td>\n",
       "      <td>1145.0</td>\n",
       "      <td>836.0</td>\n",
       "      <td>3.0</td>\n",
       "      <td>2198</td>\n",
       "      <td>8</td>\n",
       "    </tr>\n",
       "  </tbody>\n",
       "</table>\n",
       "<p>5 rows × 54 columns</p>\n",
       "</div>"
      ],
      "text/plain": [
       "   BsmtUnfSF  Neighborhood_StoneBr  LotShape_IR1  BsmtFullBath  PavedDrive_Y  \\\n",
       "0      150.0                     0             0           1.0             1   \n",
       "1      284.0                     0             0           0.0             1   \n",
       "2      434.0                     0             1           1.0             1   \n",
       "3      540.0                     0             1           1.0             1   \n",
       "4      490.0                     0             1           1.0             1   \n",
       "\n",
       "   BsmtQual_Gd  GarageType_BuiltIn  RoofStyle_Hip  Electrical_SBrkr  \\\n",
       "0            1                   0              0                 1   \n",
       "1            1                   0              0                 1   \n",
       "2            1                   0              0                 1   \n",
       "3            0                   0              0                 1   \n",
       "4            1                   0              0                 1   \n",
       "\n",
       "   HouseStyle_2Story  ...  YearBuilt  TotRmsAbvGrd  BsmtQual_Ex  FullBath  \\\n",
       "0                  1  ...       2003             8            0         2   \n",
       "1                  0  ...       1976             6            0         2   \n",
       "2                  1  ...       2001             6            0         2   \n",
       "3                  1  ...       1915             7            0         1   \n",
       "4                  1  ...       2000             9            0         2   \n",
       "\n",
       "   1stFlrSF  TotalBsmtSF  GarageArea  GarageCars  GrLivArea  OverallQual  \n",
       "0       856        856.0       548.0         2.0       1710            7  \n",
       "1      1262       1262.0       460.0         2.0       1262            6  \n",
       "2       920        920.0       608.0         2.0       1786            7  \n",
       "3       961        756.0       642.0         3.0       1717            7  \n",
       "4      1145       1145.0       836.0         3.0       2198            8  \n",
       "\n",
       "[5 rows x 54 columns]"
      ]
     },
     "execution_count": 15,
     "metadata": {},
     "output_type": "execute_result"
    }
   ],
   "source": [
    "test_sample.head()\n",
    "train_sample.head()"
   ]
  },
  {
   "cell_type": "markdown",
   "metadata": {
    "_uuid": "02e1a8de83a3d5124bc71c1a703d07fd23dcb362"
   },
   "source": [
    "#### 6) Tam gdzie wartości są puste wyliczenie średniej"
   ]
  },
  {
   "cell_type": "code",
   "execution_count": 16,
   "metadata": {
    "_uuid": "d02f247e11b2c3220aa031a7293db1c41a36074d"
   },
   "outputs": [
    {
     "name": "stderr",
     "output_type": "stream",
     "text": [
      "/home/tumnus/venv/lib/python3.7/site-packages/sklearn/utils/deprecation.py:66: DeprecationWarning: Class Imputer is deprecated; Imputer was deprecated in version 0.20 and will be removed in 0.22. Import impute.SimpleImputer from sklearn instead.\n",
      "  warnings.warn(msg, category=DeprecationWarning)\n"
     ]
    }
   ],
   "source": [
    "from sklearn.preprocessing import  Imputer\n",
    "imputer = Imputer(strategy = 'median')\n",
    "\n",
    "imputer.fit(train_sample)\n",
    "\n",
    "train_sample = imputer.transform(train_sample)\n",
    "test_sample = imputer.transform(test_sample)"
   ]
  },
  {
   "cell_type": "markdown",
   "metadata": {
    "_uuid": "96ee0fb3d7cf076b671e1dd6815d3039ecd6f748"
   },
   "source": [
    "#### 7) Normalizacja danych"
   ]
  },
  {
   "cell_type": "code",
   "execution_count": 17,
   "metadata": {
    "_uuid": "33c9a803a7d2691d2d77029231c8c472c166e69d"
   },
   "outputs": [],
   "source": [
    "from sklearn.preprocessing import StandardScaler\n",
    "scaler = StandardScaler()\n",
    "\n",
    "scaler.fit(train_sample)\n",
    "\n",
    "train_sample = scaler.transform(train_sample)\n",
    "test_sample = scaler.transform(test_sample)"
   ]
  },
  {
   "cell_type": "markdown",
   "metadata": {
    "_uuid": "22313594b0a96f9ac39887f7f25e3b648e0e8642"
   },
   "source": [
    "#### 8) Podział danych"
   ]
  },
  {
   "cell_type": "code",
   "execution_count": 19,
   "metadata": {
    "_uuid": "a693ea8e373726377fb2362c607b6db497451256"
   },
   "outputs": [],
   "source": [
    "from sklearn.model_selection import train_test_split\n",
    "\n",
    "X_train, X_test , y_train, y_test = train_test_split(train_sample,train_label,train_size = 0.8)\n"
   ]
  },
  {
   "cell_type": "markdown",
   "metadata": {
    "_uuid": "73167442ea514ceb1fcae6ae46f8c3dba226d726"
   },
   "source": [
    "#### 9) Uczenie modelu"
   ]
  },
  {
   "cell_type": "code",
   "execution_count": 21,
   "metadata": {
    "_uuid": "191415d314c8d2c85fbc2adc66991d336d42d780"
   },
   "outputs": [
    {
     "data": {
      "text/plain": [
       "LinearRegression(copy_X=True, fit_intercept=True, n_jobs=None, normalize=False)"
      ]
     },
     "execution_count": 21,
     "metadata": {},
     "output_type": "execute_result"
    }
   ],
   "source": [
    "from sklearn.linear_model import LinearRegression\n",
    "\n",
    "model = LinearRegression()\n",
    "model.fit(train_sample,train_label)"
   ]
  },
  {
   "cell_type": "markdown",
   "metadata": {
    "_uuid": "20a43465dce9fe0982fcf2c90eb5463fba4e57f2"
   },
   "source": [
    "#### 10) Przewidywanie wartości"
   ]
  },
  {
   "cell_type": "code",
   "execution_count": 22,
   "metadata": {
    "_uuid": "b57d5752398b1e96b4e8a2893fe0856f718450d7"
   },
   "outputs": [],
   "source": [
    "y_preds = model.predict(X_test)"
   ]
  },
  {
   "cell_type": "markdown",
   "metadata": {
    "_uuid": "0dd793f0aa729aa289d0859fed1a1c8acbcc2004"
   },
   "source": [
    "#### 11) Błąd modelu"
   ]
  },
  {
   "cell_type": "code",
   "execution_count": 23,
   "metadata": {
    "_uuid": "4413c4cba054a999a54250fecd3114117d2a4212"
   },
   "outputs": [
    {
     "name": "stdout",
     "output_type": "stream",
     "text": [
      "Root Mean square error:  22708.820932144845\n"
     ]
    }
   ],
   "source": [
    "from sklearn import metrics\n",
    "\n",
    "print(\"Root Mean square error: \" , np.sqrt(metrics.mean_squared_error(y_test,y_preds)))"
   ]
  }
 ],
 "metadata": {
  "kernelspec": {
   "display_name": "Python 3",
   "language": "python",
   "name": "python3"
  },
  "language_info": {
   "codemirror_mode": {
    "name": "ipython",
    "version": 3
   },
   "file_extension": ".py",
   "mimetype": "text/x-python",
   "name": "python",
   "nbconvert_exporter": "python",
   "pygments_lexer": "ipython3",
   "version": "3.7.4"
  }
 },
 "nbformat": 4,
 "nbformat_minor": 1
}
